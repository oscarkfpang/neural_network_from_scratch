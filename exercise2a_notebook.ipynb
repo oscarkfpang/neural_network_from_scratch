{
 "cells": [
  {
   "cell_type": "markdown",
   "metadata": {},
   "source": [
    "# Machine Learning Lab 2 Exercise 2a\n",
    "\n",
    "## Cost (Loss) Function\n",
    "\n",
    "You have learnt some cost functions commonly used in machine learning. In sum, in machine learning a cost function is a measure of how wrong the model is in terms of its ability to estimate the relationship between X (input) and y (output)\n",
    "\n",
    "In the previous class, we have discussed:\n",
    "+ Mean Square Error\n",
    "+ Cross Entropy\n",
    "\n",
    "We are going to implement them using Python and Numpy.\n",
    "\n",
    "First, begin the code by importing numpy."
   ]
  },
  {
   "cell_type": "code",
   "execution_count": 1,
   "metadata": {},
   "outputs": [],
   "source": [
    "# Execute the cell below to import numpy\n",
    "import numpy as np"
   ]
  },
  {
   "cell_type": "markdown",
   "metadata": {},
   "source": [
    "## 1. Mean Square Error\n",
    "\n",
    "Recall the mean square error equation is\n",
    "\n",
    "\\begin{equation}\n",
    "MSE = \\frac{1}{N} \\sum_{i=1}^n (\\hat{Y_{i}} - Y_{i})^{2}\n",
    "\\end{equation}\n",
    "where $\\hat{Y_{i}}$ is the i-th prediction of the model and $\\ Y_{i}$ is the i-th ground truth (sample output)\n",
    "\n",
    "Sometimes, it is useful to further divide the result by 2, as in the following equation:\n",
    "\n",
    "\\begin{equation}\n",
    "J(\\theta) = \\frac{1}{2m}\\sum_{i=1}^m(h_\\theta(x^{(i)})-y^{(i)})^2\n",
    "\\end{equation}\n",
    "where $\\theta$ denotes the parameters"
   ]
  },
  {
   "cell_type": "code",
   "execution_count": 2,
   "metadata": {},
   "outputs": [],
   "source": [
    "# Exercise 2a-1: Complete the following mean square error function in Python\n",
    "# You should have imported numpy. Make sure you have run the previous cell of import.\n",
    "\n",
    "def mean_square_loss(Y, Y_hat):\n",
    "    '''\n",
    "    Inputs - Y: vector / matrix of ground truths (outcomes)\n",
    "             Y_hat: vector / matrix of predicted values from a model\n",
    "    Return - Mean square error\n",
    "    '''\n",
    "    ### Your codes here (2 - 3 lines) ###\n",
    "    sq = (Y - Y_hat)**2\n",
    "    sum_sq = np.sum(sq)\n",
    "    return sum_sq / Y.size\n",
    "    "
   ]
  },
  {
   "cell_type": "markdown",
   "metadata": {},
   "source": [
    "We will generate for y and y_hat the column vector of length 5 with some random values. Feed them into the mean_square_loss above. If your mean_square_loss function above is declared correctly, you should expect to see this output:\n",
    "\n",
    "**MSE loss =  0.0694015213664**\n"
   ]
  },
  {
   "cell_type": "code",
   "execution_count": 5,
   "metadata": {},
   "outputs": [
    {
     "name": "stdout",
     "output_type": "stream",
     "text": [
      "y =  [ 0.5488135   0.71518937  0.60276338  0.54488318  0.4236548 ]\n",
      "y_hat =  [ 0.64589411  0.43758721  0.891773    0.96366276  0.38344152]\n",
      "Type of y : <class 'numpy.ndarray'>\n",
      "Type of y_hat : <class 'numpy.ndarray'>\n",
      "==================================================\n",
      "MSE loss =  0.0694015213664\n"
     ]
    }
   ],
   "source": [
    "# make sure our output is the same\n",
    "np.random.seed(0)\n",
    "\n",
    "# generate some random values of y and y^\n",
    "y = np.random.rand(5)\n",
    "y_hat = np.random.rand(5)\n",
    "\n",
    "# display y and y_hat data\n",
    "print(\"y = \",y)\n",
    "print(\"y_hat = \",y_hat)\n",
    "\n",
    "# display the data type of y and y_hat\n",
    "print(\"Type of y :\", type(y))\n",
    "print(\"Type of y_hat :\", type(y_hat))\n",
    "print(\"=\"*50)\n",
    "# run the mean_square_loss function you have implemented above\n",
    "print(\"MSE loss = \",mean_square_loss(y, y_hat))"
   ]
  },
  {
   "cell_type": "markdown",
   "metadata": {},
   "source": [
    "## 2. Cross Entropy Loss\n",
    "\n"
   ]
  },
  {
   "cell_type": "code",
   "execution_count": null,
   "metadata": {},
   "outputs": [],
   "source": [
    "# Exercise 2a-2: Complete the following cross entropy loss in Python\n",
    "# You should have imported numpy. Make sure you have run the previous cell of import.\n",
    "\n",
    "def cross_entropy_loss(Y, Y_hat):\n",
    "    '''\n",
    "    Inputs - Y: vector / matrix of ground truths (outcomes)\n",
    "             Y_hat: vector / matrix of predicted values from a model\n",
    "    Return - Mean square error\n",
    "    '''\n",
    "    ### Your codes here (2 - 3 lines) ###\n",
    "    \n",
    "    return "
   ]
  }
 ],
 "metadata": {
  "kernelspec": {
   "display_name": "Python 3",
   "language": "python",
   "name": "python3"
  },
  "language_info": {
   "codemirror_mode": {
    "name": "ipython",
    "version": 3
   },
   "file_extension": ".py",
   "mimetype": "text/x-python",
   "name": "python",
   "nbconvert_exporter": "python",
   "pygments_lexer": "ipython3",
   "version": "3.5.2"
  }
 },
 "nbformat": 4,
 "nbformat_minor": 2
}
